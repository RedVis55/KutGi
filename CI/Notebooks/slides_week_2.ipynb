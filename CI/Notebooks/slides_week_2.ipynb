{
 "cells": [
  {
   "cell_type": "markdown",
   "metadata": {
    "slideshow": {
     "slide_type": "slide"
    }
   },
   "source": [
    "## Text mining en Collectieve Intelligentie \n",
    "\n",
    "### Vandaag\n",
    "\n",
    "1. Overzicht cursus en cursus website\n",
    "3. NLTK chapter 3\n",
    "2. More programming with text\n",
    "    1. Regular expressions\n",
    "3. Plotting \n",
    "\n",
    "### Literature\n",
    "* PH 5, alleen deel over  _Automatic Readability Index_\n",
    "* NLTK 3\n",
    "* PyPlot:  <http://matplotlib.org/users/pyplot_tutorial.html>"
   ]
  },
  {
   "cell_type": "markdown",
   "metadata": {
    "slideshow": {
     "slide_type": "slide"
    }
   },
   "source": [
    "# NLTK chapter 3: Processing raw text\n",
    "\n",
    "## Main Topics\n",
    "\n",
    "* Reading documents from the web\n",
    "* String processing\n",
    "* Regular expressions\n",
    "* Encodings\n",
    "* Text normalization,\n",
    "* Text tokenization\n",
    "* Text segmentation\n"
   ]
  },
  {
   "cell_type": "markdown",
   "metadata": {
    "slideshow": {
     "slide_type": "slide"
    }
   },
   "source": [
    "# Blended learning\n",
    "\n",
    "* We wisselen _hoorcollege_ en _werkcollege_ af.\n",
    "* **Zorg dus dat je een notebook heb draaien**\n",
    "* En zet deze slides open in je notebook.\n",
    "* Dan kan je makkelijk de kleine quizjes proberen.\n",
    "\n",
    "* <http://maartenmarx.nl/teaching/CollectieveIntelligentie/Slides/slides_week_2.ipynb>"
   ]
  },
  {
   "cell_type": "markdown",
   "metadata": {
    "slideshow": {
     "slide_type": "slide"
    }
   },
   "source": [
    "# Reading documents from the web\n",
    "\n",
    "### Most used packages\n",
    "\n",
    "* Requests <http://docs.python-requests.org/en/latest/>\n",
    "    * Helps you downloading pages\n",
    "    * Good alternative for the often used `urllib2` <http://www.pythonforbeginners.com/python-on-the-web/how-to-use-urllib2-in-python/>\n",
    "* beautifulsoup4 <http://www.pythonforbeginners.com/python-on-the-web/beautifulsoup-4-python/>\n",
    "    * For parsing pages\n",
    "\n"
   ]
  },
  {
   "cell_type": "code",
   "execution_count": 2,
   "metadata": {
    "collapsed": false,
    "slideshow": {
     "slide_type": "slide"
    }
   },
   "outputs": [],
   "source": [
    "import requests\n",
    "from bs4 import BeautifulSoup\n",
    "import re"
   ]
  },
  {
   "cell_type": "code",
   "execution_count": 3,
   "metadata": {
    "collapsed": false,
    "slideshow": {
     "slide_type": "fragment"
    }
   },
   "outputs": [
    {
     "name": "stdout",
     "output_type": "stream",
     "text": [
      "<!DOCTYPE html>\n",
      "<html lang=\"en-US\" prefix=\"og: http://ogp.me/ns#\">\n",
      " <head>\n",
      "  <meta charset=\"utf-8\"/>\n",
      "  <meta content=\"width=device-width\" name=\"viewport\"/>\n",
      "  <title>\n",
      "   Pythonforbeginners.com - Learn \n"
     ]
    }
   ],
   "source": [
    "url = \"http://www.pythonforbeginners.com\"\n",
    "\n",
    "# download the url\n",
    "r = requests.get(url)\n",
    "\n",
    "# parse the page\n",
    "soup = BeautifulSoup(r.text)\n",
    "\n",
    "# Now you can do many things:\n",
    "print soup.prettify()[:200]\n",
    "\n",
    " \n",
    " "
   ]
  },
  {
   "cell_type": "code",
   "execution_count": 5,
   "metadata": {
    "collapsed": false,
    "slideshow": {
     "slide_type": "slide"
    }
   },
   "outputs": [
    {
     "name": "stdout",
     "output_type": "stream",
     "text": [
      " Pythonforbeginners.com - Learn Python by Example \n"
     ]
    }
   ],
   "source": [
    "print soup.title.string\n",
    " "
   ]
  },
  {
   "cell_type": "code",
   "execution_count": 4,
   "metadata": {
    "collapsed": false,
    "slideshow": {
     "slide_type": "slide"
    }
   },
   "outputs": [
    {
     "name": "stdout",
     "output_type": "stream",
     "text": [
      "87\n"
     ]
    },
    {
     "data": {
      "text/plain": [
       "[<a class=\"navbar-brand\" href=\"/\" title=\"pythonforbeginners.com\">\n",
       " <img alt=\"pythonforbeginners.com\" src=\"http://s.pythonforbeginners.com/static/img/pfb_logo.png\"/>\n",
       " </a>,\n",
       " <a href=\"/\" title=\"Home\">Home</a>,\n",
       " <a href=\"/learn-python/\" title=\"Learn Python\">Learn Python</a>,\n",
       " <a href=\"/basics/\" title=\"Basics\">Basics</a>,\n",
       " <a href=\"/lists/\" title=\"lists\">Lists</a>]"
      ]
     },
     "execution_count": 4,
     "metadata": {},
     "output_type": "execute_result"
    }
   ],
   "source": [
    "# Find all links\n",
    "links = soup.findAll('a')\n",
    "print len(links)\n",
    "\n",
    "links[:5]"
   ]
  },
  {
   "cell_type": "code",
   "execution_count": 6,
   "metadata": {
    "collapsed": false,
    "slideshow": {
     "slide_type": "slide"
    }
   },
   "outputs": [
    {
     "data": {
      "text/plain": [
       "['pythonforbeginners.com', 'Basics', 'lists', 'dictionary', 'code snippets']"
      ]
     },
     "execution_count": 6,
     "metadata": {},
     "output_type": "execute_result"
    }
   ],
   "source": [
    "# Put all titles of the links into a list\n",
    "\n",
    "LinkTitles = [ a.get('title') for a in links]\n",
    "LinkTitles[:5] "
   ]
  },
  {
   "cell_type": "code",
   "execution_count": 5,
   "metadata": {
    "collapsed": false,
    "slideshow": {
     "slide_type": "fragment"
    }
   },
   "outputs": [
    {
     "name": "stdout",
     "output_type": "stream",
     "text": [
      "[u'\\n\\n', u'Home', u'Learn Python', u'Basics', u'Lists', u'Dictionary', u'Code Snippets', u'Modules', u'The del Statement', u'', u'\\n                        read more \\u2192', u'\\xa0\\xa0Basics', u'__str__ vs. __repr__', u'', u'\\n                        read more \\u2192', u'\\xa0\\xa0Basics', u'Break and Continue Statements', u'', u'\\n                        read more \\u2192', u'\\xa0\\xa0Basics', u'\\xa0\\xa0Code', u'Numeric Types in Python', u'', u'\\n                        read more \\u2192', u'\\xa0\\xa0Code', u'DNS Lookup With Python', u'', u'\\n                        read more \\u2192', u'\\xa0\\xa0Python', u'\\xa0\\xa0Sockets', u'Encoding JSON with Python', u'', u'\\n                        read more \\u2192', u'\\xa0\\xa0Dictionary', u'\\xa0\\xa0Json', u'\\xa0\\xa0Python', u'How to Use MySQL Connector/Python', u'', u'\\n                        read more \\u2192', u'\\xa0\\xa0MySQL', u'\\xa0\\xa0Pip', u'\\xa0\\xa0Python', u'PostGen', u'', u'\\n                        read more \\u2192', u'\\xa0\\xa0Basics', u'Getting the most popular pages from your Apache logfile', u'', u'\\n                        read more \\u2192', u'\\xa0\\xa0Code snippets', u'\\xa0\\xa0collection', u'\\xa0\\xa0IO', u'Make your life easier with Virtualenvwrapper', u'', u'\\n                        read more \\u2192', u'\\xa0\\xa0Pip', u'\\xa0\\xa0Virtualenv', u'\\xab', u'\\u2190', u'1', u'2', u'3', u'4', u'5', u'6', u'7', u'8', u'9', u'10', u'\\u2192', u'\\xbb', u' follow @pythonbeginners', u'Basics', u'Cheatsheet', u'Code snippets', u'Development', u'Dictionary', u'Error Handling', u'Lists', u'Loops', u'Modules', u'Strings', u'System & OS', u'Uncategorized', u'Web & Internet', u'Python For Beginners', u'Privacy Policy']\n"
     ]
    }
   ],
   "source": [
    "# Make a list of all \"anchor text\"\n",
    "Anchortext = [a.text for a in links]\n",
    "print Anchortext"
   ]
  },
  {
   "cell_type": "markdown",
   "metadata": {
    "slideshow": {
     "slide_type": "slide"
    }
   },
   "source": [
    "## Quiz: your turn\n",
    "1. Create a list containing triples, of (anchor text, url, title) for each a-element \n",
    "\n",
    "```\n",
    "LinkTitles = [ a.get('title') for a in links]\n",
    "Anchortext = [a.text for a in links]\n",
    "```\n",
    "\n",
    "#### Update 2016: this is not that relevant anymore for this specific page\n",
    "2. That text in `Anchortext` looks awful. Use string methods to clean it and remove unwanted parts (like multiple spaces, newlines, etc.)\n",
    "\n",
    "TIP: Want to know which string-methods exist? Make a test string `a='a'`, run it, and then ask `a.TAB` \n",
    "\n",
    "3. Use the Counter method to count the strings in anchor text\n",
    "```\n",
    "from collections import Counter\n",
    "```\n",
    "\n",
    "\n"
   ]
  },
  {
   "cell_type": "code",
   "execution_count": 17,
   "metadata": {
    "collapsed": false,
    "slideshow": {
     "slide_type": "slide"
    }
   },
   "outputs": [
    {
     "data": {
      "text/plain": [
       "[('/', 'pythonforbeginners.com', u'\\n\\n'),\n",
       " ('/', 'Home', u'Home'),\n",
       " ('/learn-python/', 'Learn Python', u'Learn Python'),\n",
       " ('/basics/', 'Basics', u'Basics'),\n",
       " ('/lists/', 'lists', u'Lists'),\n",
       " ('/dictionary/', 'dictionary', u'Dictionary'),\n",
       " ('/code-snippets-source-code/', 'code snippets', u'Code Snippets'),\n",
       " ('/modules-in-python/', 'modules', u'Modules'),\n",
       " ('/basics/del-statement', 'The del Statement', u'The del Statement'),\n",
       " ('del-statement#disqus_thread', 'Comment on The del Statement', u''),\n",
       " ('/basics/del-statement',\n",
       "  'The del Statement',\n",
       "  u'\\n                        read more \\u2192')]"
      ]
     },
     "execution_count": 17,
     "metadata": {},
     "output_type": "execute_result"
    }
   ],
   "source": [
    "# Create a list containing triples, of (anchor text, url, title) for each a-element \n",
    "triples = [(a.get('href'),a.get('title'),a.text)  for a in links ]\n",
    "\n",
    "triples[:11]"
   ]
  },
  {
   "cell_type": "code",
   "execution_count": 20,
   "metadata": {
    "collapsed": false
   },
   "outputs": [
    {
     "data": {
      "text/plain": [
       "u'\\n                        read more \\u2192'"
      ]
     },
     "execution_count": 20,
     "metadata": {},
     "output_type": "execute_result"
    }
   ],
   "source": [
    "Anchortext[10]"
   ]
  },
  {
   "cell_type": "code",
   "execution_count": 21,
   "metadata": {
    "collapsed": false,
    "slideshow": {
     "slide_type": "fragment"
    }
   },
   "outputs": [
    {
     "data": {
      "text/plain": [
       "u'read more \\u2192'"
      ]
     },
     "execution_count": 21,
     "metadata": {},
     "output_type": "execute_result"
    }
   ],
   "source": [
    "Anchortext[10].strip()"
   ]
  },
  {
   "cell_type": "code",
   "execution_count": 16,
   "metadata": {
    "collapsed": false,
    "slideshow": {
     "slide_type": "slide"
    }
   },
   "outputs": [
    {
     "name": "stdout",
     "output_type": "stream",
     "text": [
      "\n",
      "\n",
      "===> \n",
      "Home ===> Home\n",
      "Learn Python ===> Learn Python\n",
      "Basics ===> Basics\n",
      "Lists ===> Lists\n",
      "Dictionary ===> Dictionary\n",
      "Code Snippets ===> Code Snippets\n",
      "Modules ===> Modules\n",
      "The del Statement ===> The del Statement\n",
      " ===> \n",
      "\n",
      "                        read more → ===> read more →\n"
     ]
    }
   ],
   "source": [
    "#That text in `Anchortext` looks awful. \n",
    "# Use string methods to clean it and remove unwanted parts (like multiple spaces, newlines, etc.)\n",
    "StrippedAnchors=[a.strip() for a in Anchortext]\n",
    "\n",
    "for i in range(11):\n",
    "    print Anchortext[i],'===>', StrippedAnchors[i]\n",
    " "
   ]
  },
  {
   "cell_type": "code",
   "execution_count": 23,
   "metadata": {
    "collapsed": false,
    "slideshow": {
     "slide_type": "slide"
    }
   },
   "outputs": [
    {
     "data": {
      "text/plain": [
       "[(u'', 11),\n",
       " (u'read more \\u2192', 10),\n",
       " (u'basics', 6),\n",
       " (u'code snippets', 3),\n",
       " (u'dictionary', 3),\n",
       " (u'python', 3),\n",
       " (u'code', 2),\n",
       " (u'pip', 2),\n",
       " (u'lists', 2),\n",
       " (u'modules', 2)]"
      ]
     },
     "execution_count": 23,
     "metadata": {},
     "output_type": "execute_result"
    }
   ],
   "source": [
    "#Use the Counter method to count the strings in anchor text\n",
    "from collections import  Counter\n",
    "\n",
    "AnchorCounts= Counter([a.lower() for a in StrippedAnchors])  # We also lower case\n",
    "AnchorCounts.most_common(10)"
   ]
  },
  {
   "cell_type": "markdown",
   "metadata": {
    "slideshow": {
     "slide_type": "slide"
    }
   },
   "source": [
    "## Wrap up\n",
    "\n",
    "1. BeautifulSoup is very powerful.\n",
    "1. Can parse almost all HTML, also really bad, broken HTML.\n",
    "    * _Bad broken HTML_????\n",
    "    "
   ]
  },
  {
   "cell_type": "markdown",
   "metadata": {
    "slideshow": {
     "slide_type": "fragment"
    }
   },
   "source": [
    "1. For well-formed XML, you can use other parsers.\n",
    "1. `import feedparser` for RSS feeds\n",
    "1. `import lxml` for XML"
   ]
  },
  {
   "cell_type": "markdown",
   "metadata": {
    "slideshow": {
     "slide_type": "slide"
    }
   },
   "source": [
    "# String processing\n",
    "\n",
    "* Strings share many properties with lists\n",
    "    * concatenate with `+`\n",
    "    * slicing `kkk'[1:]`\n",
    "    * `len`\n",
    "    * `for c in 'hallo':`\n",
    "    * _but they are immutable, where lists are not!_\n",
    "        * `list[0]=1` is OK, but `'strong'[3]='i'` is not possible.\n",
    "* and have many own methods: `string.TAB` in IPython\n",
    "    * tests `islower()`\n",
    "    * changers: `strip()`, `lower()`, `S.replace(old, new[, count]) -> string`"
   ]
  },
  {
   "cell_type": "markdown",
   "metadata": {
    "slideshow": {
     "slide_type": "fragment"
    }
   },
   "source": [
    "* but for harder tasks we need stronger machinery\n",
    "\n",
    "### QUIZ: \n",
    "Create a list of  all words ending in 'en' from this list of words.\n",
    "```\n",
    "L=['stoel','stoelen','Ik' ,'ben', 'aan het', 'lopen']\n",
    "```\n",
    "\n"
   ]
  },
  {
   "cell_type": "code",
   "execution_count": 6,
   "metadata": {
    "collapsed": false,
    "slideshow": {
     "slide_type": "slide"
    }
   },
   "outputs": [
    {
     "data": {
      "text/plain": [
       "['stoelen', 'ben', 'lopen']"
      ]
     },
     "execution_count": 6,
     "metadata": {},
     "output_type": "execute_result"
    }
   ],
   "source": [
    "L=['stoel','stoelen','Ik' ,'ben', 'aan het', 'lopen', 'enne', 'enkele', 'denne']\n",
    "\n",
    "Len=[w for w in L if w[-2:]=='en']\n",
    "Len"
   ]
  },
  {
   "cell_type": "code",
   "execution_count": 13,
   "metadata": {
    "collapsed": false,
    "slideshow": {
     "slide_type": "fragment"
    }
   },
   "outputs": [
    {
     "data": {
      "text/plain": [
       "['stoelen', 'ben', 'lopen']"
      ]
     },
     "execution_count": 13,
     "metadata": {},
     "output_type": "execute_result"
    }
   ],
   "source": [
    "import re\n",
    "Len=[w for w in L if  re.search(r'en$',w)]\n",
    "Len"
   ]
  },
  {
   "cell_type": "code",
   "execution_count": 14,
   "metadata": {
    "collapsed": false,
    "slideshow": {
     "slide_type": "fragment"
    }
   },
   "outputs": [
    {
     "data": {
      "text/plain": [
       "['stoelen', 'ben', 'lopen', 'enne', 'enkele', 'denne']"
      ]
     },
     "execution_count": 14,
     "metadata": {},
     "output_type": "execute_result"
    }
   ],
   "source": [
    "# Forget the dollar\n",
    "Len=[w for w in L if  re.search(r'en',w)]\n",
    "Len"
   ]
  },
  {
   "cell_type": "markdown",
   "metadata": {
    "slideshow": {
     "slide_type": "slide"
    }
   },
   "source": [
    "# Regular expressions\n",
    "\n",
    "[Own set of slides](PythonRegex.ipynb)"
   ]
  },
  {
   "cell_type": "markdown",
   "metadata": {
    "slideshow": {
     "slide_type": "slide"
    }
   },
   "source": [
    "#Further text processing:\n",
    "\n",
    "* Text normalization,\n",
    "* Text tokenization\n",
    "* Text segmentation"
   ]
  },
  {
   "cell_type": "markdown",
   "metadata": {
    "slideshow": {
     "slide_type": "slide"
    }
   },
   "source": [
    "# Text normalization\n",
    "\n",
    "* Idea: we are most often not interested in the _string_ but in the _concept_ behind it.\n",
    "* But many ways to write the same concept:\n",
    "    * stoel, stoelen, Stoel, Stoeltje, sTOEletje, $\\ldots$\n",
    "    * Proper names\n",
    "    * verb and other conjugations\n",
    "\n",
    "## Examples\n",
    "* lower casing is almost always OK (without loss of meaning)\n",
    "* lemmatizing\n",
    "    * reduce wordforms to their stem/lemma\n",
    "    * expensive as it needs dictionary lookup for each word\n",
    "    * stemming: rule based heuristic approach to bring words back to their stem\n",
    "        * more false hits then with lemmatization.\n",
    "* Lemmatization example\n",
    "    * _Ik werk hard aan mijn werk._\n",
    "   "
   ]
  },
  {
   "cell_type": "markdown",
   "metadata": {
    "slideshow": {
     "slide_type": "slide"
    }
   },
   "source": [
    "## Segmentation\n",
    "\n",
    "* Cluster words into larger meaningful units:\n",
    "    * sentence\n",
    "    * paragraph\n",
    "    * $\\ldots$ \n",
    "* often application dependent\n",
    "\n",
    "### Next week more"
   ]
  },
  {
   "cell_type": "code",
   "execution_count": 7,
   "metadata": {
    "collapsed": false,
    "slideshow": {
     "slide_type": "slide"
    }
   },
   "outputs": [
    {
     "name": "stdout",
     "output_type": "stream",
     "text": [
      "[NbConvertApp] Using existing profile dir: u'/Users/admin/.ipython/profile_default'\n",
      "[NbConvertApp] Converting notebook slides_week_2.ipynb to slides\n",
      "[NbConvertApp] Support files will be in slides_week_2_files/\n",
      "[NbConvertApp] Loaded template slides_reveal.tpl\n",
      "[NbConvertApp] Writing 229595 bytes to slides_week_2.slides.html\n"
     ]
    }
   ],
   "source": [
    "!ipython nbconvert slides_week_2.ipynb    --to slides --reveal-prefix \"http://maartenmarx.nl/reveal.js\" \n",
    "!mv  slides_week_2.slides.html slides_week_2.html\n",
    "!chmod a+r slides_week_2*"
   ]
  },
  {
   "cell_type": "code",
   "execution_count": null,
   "metadata": {
    "collapsed": false
   },
   "outputs": [],
   "source": []
  }
 ],
 "metadata": {
  "celltoolbar": "Slideshow",
  "kernelspec": {
   "display_name": "Python 2",
   "language": "python",
   "name": "python2"
  },
  "language_info": {
   "codemirror_mode": {
    "name": "ipython",
    "version": 2
   },
   "file_extension": ".py",
   "mimetype": "text/x-python",
   "name": "python",
   "nbconvert_exporter": "python",
   "pygments_lexer": "ipython2",
   "version": "2.7.11"
  }
 },
 "nbformat": 4,
 "nbformat_minor": 0
}
