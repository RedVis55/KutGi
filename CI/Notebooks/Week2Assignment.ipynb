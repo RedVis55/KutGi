{
 "cells": [
  {
   "cell_type": "markdown",
   "metadata": {},
   "source": [
    "# Assignment Collective Intelligence Week 2:  17 points"
   ]
  },
  {
   "cell_type": "markdown",
   "metadata": {},
   "source": [
    "## Notebook made by   (If not filled in correctly: 0 pts for assignment)\n",
    "\n",
    "__Name(s)__: Elvis Afrifa\n",
    "\n",
    "__Student id(s)__ : 11070013\n",
    "\n",
    "### Pledge (taken from [Coursera's Honor Code](https://www.coursera.org/about/terms/honorcode) )\n",
    "\n",
    "Put here a selfie with your photo where you hold a signed paper with the following text: (if this is team work, put two selfies here). The link must be to some place on the web, not to a local file.\n",
    "\n",
    "http://imgur.com/c5L3LVq\n",
    "\n",
    "> My answers to homework, quizzes and exams will be my own work (except for assignments that explicitly permit collaboration).\n",
    "\n",
    ">I will not make solutions to homework, quizzes or exams available to anyone else. This includes both solutions written by me, as well as any official solutions provided by the course staff.\n",
    "\n",
    ">I will not engage in any other activities that will dishonestly improve my results or dishonestly improve/hurt the results of others.\n",
    "\n",
    "<img src='link to your selfie'/>"
   ]
  },
  {
   "cell_type": "markdown",
   "metadata": {},
   "source": [
    "## Extracting information from text/web files\n",
    "\n",
    "### Creating structured information\n",
    "\n",
    "We want to have a structured overview of the activities going on in the Maagdenhuis.\n",
    "These activities are listed on <http://newuni.nl/bungehuis-programma>, but _of course_ only in human readable form.\n",
    "(if the url does not work anymore, a [copy is available in the Data folder](../../Data/bungehuis-programma.html) Or <http://maartenmarx.nl/teaching/CollectieveIntelligentie/Data/bungehuis-programma.html>.\n",
    "\n",
    "You must create a set of functions which \n",
    "\n",
    "* download that page\n",
    "* extract the information about the program \n",
    "* and store it as a list of lists of the form \n",
    "\n",
    "```\n",
    "[date,starttime,endtime,place,activity]\n",
    "```\n",
    "* **Bonus** Extract the persons involved in the activity and add them as a list to each activy, thus in the form\n",
    "\n",
    "```\n",
    "[date,starttime,endtime,place,activity,list_of_persons_involved]\n",
    "```\n",
    "\n",
    "* Make sure your date is in iso-format:  _yyyy-mm-dd_ .\n",
    "\n",
    "### IPython notebook\n",
    "Do everything in one IPython notebook, which when we run all cells produces a nicely printed \"spreadsheet like\" overview of all activities, sorted chronologically.\n",
    "\n",
    "** Use this notebook as a basis for your answers. In particular do not delete any cells if not stated explicitly.**\n",
    "\n",
    "Put enough comments to have readable code, **in English**.\n",
    "\n",
    "If you have problems, find strange things, or otherwise, simply report them in the notebook."
   ]
  },
  {
   "cell_type": "markdown",
   "metadata": {},
   "source": [
    "# The questions"
   ]
  },
  {
   "cell_type": "markdown",
   "metadata": {},
   "source": [
    "## Q1 download the url and parse it using beautifulsoup (1pt)"
   ]
  },
  {
   "cell_type": "code",
   "execution_count": 99,
   "metadata": {
    "collapsed": false
   },
   "outputs": [
    {
     "name": "stdout",
     "output_type": "stream",
     "text": [
      "<!DOCTYPE html>\n",
      "<html lang=\"en-US\">\n",
      " <head>\n",
      "  <meta charset=\"utf-8\"/>\n",
      "  <meta conlandscapet=\"width=device-width\" name=\"viewport\"/>\n",
      "  <title>\n",
      "   Programma Maagdenhuis | De Nieuwe Universiteit\n",
      "  </title\n"
     ]
    }
   ],
   "source": [
    "import requests\n",
    "from bs4 import BeautifulSoup\n",
    "import re\n",
    "\n",
    "url = \"http://maartenmarx.nl/teaching/CollectieveIntelligentie/Data/bungehuis-programma.html\"\n",
    "\n",
    "# download webpage\n",
    "r = requests.get(url)\n",
    "\n",
    "# parse page\n",
    "soup = BeautifulSoup(r.text)\n",
    "\n",
    "# test\n",
    "print soup.prettify()[:200]"
   ]
  },
  {
   "cell_type": "markdown",
   "metadata": {},
   "source": [
    "## Q2 Make a list of all h1 elements (3pt)\n",
    "\n",
    "* You have all events, but also a bit too much  (1pt)\n",
    "* restrict your list to those which have a class attribute with value \"fluid\"  (1pt)\n",
    "* Mmm, now you miss out some events, repair it so you have exactly all events (1pt)"
   ]
  },
  {
   "cell_type": "code",
   "execution_count": 134,
   "metadata": {
    "collapsed": false
   },
   "outputs": [],
   "source": [
    "# this does not give us all dates\n",
    "allh1 = soup.find_all('h1')\n",
    "\n",
    "#too_few_events=\n",
    "too_few_events = soup.find_all(\"h1\", class_=\"fluid\")\n",
    "\n",
    "#all_events=\n",
    "div_lookup = soup.find(\"div\", class_=\"entry-content\")\n",
    "all_events = div_lookup.find_all(\"h1\")"
   ]
  },
  {
   "cell_type": "markdown",
   "metadata": {},
   "source": [
    "## Q3 Get the times (3pt)\n",
    "\n",
    "* Write a function which given a string, finds all times and stores them as a list of pairs `(start-time, end-time)`.\n",
    "* Thus when we apply the function on \n",
    "\n",
    "```\n",
    "12.30 – 13:00        Red Light Radio – Ovational Exercises<br/>\n",
    " <b>14:00 – 15:00 </b><b>    </b><b>    </b><b>Joint General Assembly: Humanities Rally &amp; RethinkUvA &amp; De Nieuwe Universiteit<br/\n",
    "```\n",
    " \n",
    " we expect as output\n",
    " \n",
    " ```\n",
    " [(12:30,13:00), (14:00,15:00)]\n",
    " ```\n",
    " \n",
    " \n",
    " Note that the period in `12.30` has been replced by a `:` in the output.\n",
    " \n",
    "* You use regular expressions of course.\n",
    "* Here is an example to get you started. Delete it from your final notebook\n",
    "* Also try this:\n",
    "```\n",
    "re.findall('[\\d.:]+[^\\d]*',' 17.00 – 18.00 Lezing van Jan Rotmans: een transitie in het onderwijs is hard nodig en studenten kunnen dat versnellen.<br/>\\n18:00 – 19:00')\n",
    "```"
   ]
  },
  {
   "cell_type": "code",
   "execution_count": 74,
   "metadata": {
    "collapsed": false
   },
   "outputs": [
    {
     "data": {
      "text/plain": [
       "['17.00 \\xe2\\x80\\x93 18.00 Lezing van Jan Rotmans: een transitie in het onderwijs is hard nodig en studenten kunnen dat versnellen.',\n",
       " '18:00 \\xe2\\x80\\x93 19:00 Niels Harmsen : Introductie cryptogeld:',\n",
       " '19:00 \\xe2\\x80\\x93 21:00',\n",
       " '21:00 \\xe2\\x80\\x93 22:00 Lezing Myriam Vander Stichele (SOMO) Hervormingen van de financi\\xc3\\xable sector:']"
      ]
     },
     "execution_count": 74,
     "metadata": {},
     "output_type": "execute_result"
    }
   ],
   "source": [
    "import re\n",
    "\n",
    "\n",
    "def extract_time(string):\n",
    "    return re.findall('[\\d.:]+.*[\\d.:]+',string)  #[\\d.]+:[\\d.]+\\s+-\\s+[\\d.]+:[\\d.]+\n",
    "\n",
    "test ='''\n",
    "Main Hall<br/>\n",
    " 17.00 – 18.00 Lezing van Jan Rotmans: een transitie in het onderwijs is hard nodig en studenten kunnen dat versnellen.<br/>\n",
    " 18:00 – 19:00 Niels Harmsen : Introductie cryptogeld: een nieuw soort sparen<br/>\n",
    " 19:00 – 21:00 ReThink HvA<br/>\n",
    " 21:00 – 22:00 Lezing Myriam Vander Stichele (SOMO) Hervormingen van de financiële sector: wat is er echt veranderd?</span></p>\n",
    "'''\n",
    "extract_time(test)\n",
    "\n"
   ]
  },
  {
   "cell_type": "code",
   "execution_count": null,
   "metadata": {
    "collapsed": false
   },
   "outputs": [],
   "source": [
    "def extract_times(string):\n",
    "    # your turn\n",
    "    time_expressions=\n",
    "    time_pairs =\n",
    "    return time_pairs"
   ]
  },
  {
   "cell_type": "markdown",
   "metadata": {},
   "source": [
    "## Q3.1 Make a function which extracts the date from an h1 element and turns it into an iso date (1pt)\n",
    "Thus `<h1 class=\"fluid\">Friday March 20 (day #23)</h1>` should return `'2015-03-20'`"
   ]
  },
  {
   "cell_type": "code",
   "execution_count": null,
   "metadata": {
    "collapsed": false
   },
   "outputs": [],
   "source": [
    "def extract_date(h1):\n",
    "    \n",
    "    \n",
    "    return iso_date"
   ]
  },
  {
   "cell_type": "markdown",
   "metadata": {},
   "source": [
    "## Q4 Get the activity  (1pt)\n",
    "* Write a function which given a string of the form \n",
    "```\n",
    " 12:30 – 13:00        Red Light Radio – Ovational Exercises\n",
    "```\n",
    "extracts the activity as a string (i.e., everything except the time). Of course you remove whitespace from start and end. ;-)\n"
   ]
  },
  {
   "cell_type": "code",
   "execution_count": null,
   "metadata": {
    "collapsed": false
   },
   "outputs": [],
   "source": [
    "def extract_activity(string):\n",
    "    "
   ]
  },
  {
   "cell_type": "markdown",
   "metadata": {},
   "source": [
    "##Q5 Extract the activities of a day (3pt)\n",
    "\n",
    "Now we extract all events belonging to one day. It might help to try to following code\n",
    "\n",
    "```\n",
    "day=all_events[0]\n",
    "day.fetchNextSiblings()[:7]\n",
    "```\n",
    "You see that the HTML items that are _after_ the `h1`-event are all there, including the new events.\n",
    "\n",
    "So you need to find a way to catch all events after an `h1` _until_ the next `h1`. You can do this using the idea embedded in the code example below.\n",
    "\n"
   ]
  },
  {
   "cell_type": "code",
   "execution_count": 98,
   "metadata": {
    "collapsed": false
   },
   "outputs": [
    {
     "name": "stdout",
     "output_type": "stream",
     "text": [
      "[(2, 'a'), (5, 'a')]\n",
      "['x', 'y', 'a', 'b', 'c']\n"
     ]
    }
   ],
   "source": [
    "a_positions = [i for i in enumerate(['x','y','a','b','c','a', 'f']) if i[1]=='a']\n",
    "print a_positions\n",
    "\n",
    "print ['x','y','a','b','c','a', 'f'][:5]"
   ]
  },
  {
   "cell_type": "code",
   "execution_count": null,
   "metadata": {
    "collapsed": false
   },
   "outputs": [],
   "source": [
    "def extract_events_of_one_day(event):\n",
    "    '''\n",
    "    Given an event (h1 element), it returns a list of lists of the form [date,starttime,endtime,eventdescription].\n",
    "    '''\n",
    "    "
   ]
  },
  {
   "cell_type": "markdown",
   "metadata": {},
   "source": [
    "## Q6 Put it all together (5pt) \n",
    "* You only get  points if your output is perfect.\n",
    "\n",
    "* Create a function which downloads the url and outputs a list of lists of the form \n",
    "\n",
    "```\n",
    "[date,starttime,endtime,place,activity]\n",
    "```\n",
    "\n"
   ]
  },
  {
   "cell_type": "code",
   "execution_count": null,
   "metadata": {
    "collapsed": false
   },
   "outputs": [],
   "source": [
    "def make_event_table():\n",
    "    "
   ]
  },
  {
   "cell_type": "markdown",
   "metadata": {},
   "source": [
    "## Play and write to file\n",
    "Use the example code below to inspect your results and write it to a csv file.\n",
    "\n"
   ]
  },
  {
   "cell_type": "code",
   "execution_count": 2,
   "metadata": {
    "collapsed": false
   },
   "outputs": [
    {
     "name": "stdout",
     "output_type": "stream",
     "text": [
      "[[ 0.46988716  0.76280995  0.58062464  0.70773704]\n",
      " [ 0.42782951  0.57666671  0.66020126  0.68262673]\n",
      " [ 0.49370789  0.28625665  0.83860879  0.0755259 ]\n",
      " [ 0.95507882  0.46527866  0.56937243  0.67024427]\n",
      " [ 0.46520851  0.01916666  0.08820522  0.95549119]\n",
      " [ 0.1181328   0.76924393  0.56001049  0.68381477]\n",
      " [ 0.77826939  0.07056374  0.16995387  0.82223122]\n",
      " [ 0.31724409  0.31648033  0.25652283  0.9888255 ]]\n"
     ]
    }
   ],
   "source": [
    "import pandas as pd\n",
    "import numpy as np\n",
    "\n",
    "# http://docs.scipy.org/doc/numpy/reference/generated/numpy.random.rand.html\n",
    "test = np.random.rand(8,4)\n",
    "print test"
   ]
  },
  {
   "cell_type": "code",
   "execution_count": 3,
   "metadata": {
    "collapsed": false
   },
   "outputs": [
    {
     "data": {
      "text/html": [
       "<div>\n",
       "<table border=\"1\" class=\"dataframe\">\n",
       "  <thead>\n",
       "    <tr style=\"text-align: right;\">\n",
       "      <th></th>\n",
       "      <th>date</th>\n",
       "      <th>start</th>\n",
       "      <th>end</th>\n",
       "      <th>description</th>\n",
       "    </tr>\n",
       "  </thead>\n",
       "  <tbody>\n",
       "    <tr>\n",
       "      <th>0</th>\n",
       "      <td>0.469887</td>\n",
       "      <td>0.762810</td>\n",
       "      <td>0.580625</td>\n",
       "      <td>0.707737</td>\n",
       "    </tr>\n",
       "    <tr>\n",
       "      <th>1</th>\n",
       "      <td>0.427830</td>\n",
       "      <td>0.576667</td>\n",
       "      <td>0.660201</td>\n",
       "      <td>0.682627</td>\n",
       "    </tr>\n",
       "    <tr>\n",
       "      <th>2</th>\n",
       "      <td>0.493708</td>\n",
       "      <td>0.286257</td>\n",
       "      <td>0.838609</td>\n",
       "      <td>0.075526</td>\n",
       "    </tr>\n",
       "    <tr>\n",
       "      <th>3</th>\n",
       "      <td>0.955079</td>\n",
       "      <td>0.465279</td>\n",
       "      <td>0.569372</td>\n",
       "      <td>0.670244</td>\n",
       "    </tr>\n",
       "    <tr>\n",
       "      <th>4</th>\n",
       "      <td>0.465209</td>\n",
       "      <td>0.019167</td>\n",
       "      <td>0.088205</td>\n",
       "      <td>0.955491</td>\n",
       "    </tr>\n",
       "    <tr>\n",
       "      <th>5</th>\n",
       "      <td>0.118133</td>\n",
       "      <td>0.769244</td>\n",
       "      <td>0.560010</td>\n",
       "      <td>0.683815</td>\n",
       "    </tr>\n",
       "    <tr>\n",
       "      <th>6</th>\n",
       "      <td>0.778269</td>\n",
       "      <td>0.070564</td>\n",
       "      <td>0.169954</td>\n",
       "      <td>0.822231</td>\n",
       "    </tr>\n",
       "    <tr>\n",
       "      <th>7</th>\n",
       "      <td>0.317244</td>\n",
       "      <td>0.316480</td>\n",
       "      <td>0.256523</td>\n",
       "      <td>0.988826</td>\n",
       "    </tr>\n",
       "  </tbody>\n",
       "</table>\n",
       "</div>"
      ],
      "text/plain": [
       "       date     start       end  description\n",
       "0  0.469887  0.762810  0.580625     0.707737\n",
       "1  0.427830  0.576667  0.660201     0.682627\n",
       "2  0.493708  0.286257  0.838609     0.075526\n",
       "3  0.955079  0.465279  0.569372     0.670244\n",
       "4  0.465209  0.019167  0.088205     0.955491\n",
       "5  0.118133  0.769244  0.560010     0.683815\n",
       "6  0.778269  0.070564  0.169954     0.822231\n",
       "7  0.317244  0.316480  0.256523     0.988826"
      ]
     },
     "execution_count": 3,
     "metadata": {},
     "output_type": "execute_result"
    }
   ],
   "source": [
    "testdf= pd.DataFrame(test, columns=['date','start','end','description'])\n",
    "testdf"
   ]
  },
  {
   "cell_type": "code",
   "execution_count": 8,
   "metadata": {
    "collapsed": false
   },
   "outputs": [],
   "source": [
    "# Write to a csv file:\n",
    "myfilename='effe.csv'\n",
    "testdf.to_csv(myfilename, index=False)"
   ]
  },
  {
   "cell_type": "code",
   "execution_count": 9,
   "metadata": {
    "collapsed": false
   },
   "outputs": [
    {
     "name": "stdout",
     "output_type": "stream",
     "text": [
      "date,start,end,description\r\n",
      "0.469887155254,0.762809949248,0.580624643427,0.707737040012\r\n",
      "0.427829512026,0.576666708478,0.66020125588,0.682626733864\r\n",
      "0.493707894704,0.286256651768,0.838608787234,0.0755258953342\r\n",
      "0.955078821019,0.465278660537,0.56937243066,0.670244265721\r\n",
      "0.46520851478,0.0191666565897,0.0882052222275,0.955491192343\r\n",
      "0.118132801645,0.769243932728,0.560010486447,0.683814766219\r\n",
      "0.778269393563,0.070563739459,0.169953872918,0.82223121816\r\n",
      "0.317244093079,0.316480332794,0.25652282813,0.988825500037\r\n"
     ]
    }
   ],
   "source": [
    "%cat effe.csv   # show that csv file\n",
    "%rm effe.csv    # throw it away"
   ]
  },
  {
   "cell_type": "code",
   "execution_count": null,
   "metadata": {
    "collapsed": false
   },
   "outputs": [],
   "source": []
  }
 ],
 "metadata": {
  "kernelspec": {
   "display_name": "Python 2",
   "language": "python",
   "name": "python2"
  },
  "language_info": {
   "codemirror_mode": {
    "name": "ipython",
    "version": 2
   },
   "file_extension": ".py",
   "mimetype": "text/x-python",
   "name": "python",
   "nbconvert_exporter": "python",
   "pygments_lexer": "ipython2",
   "version": "2.7.10"
  }
 },
 "nbformat": 4,
 "nbformat_minor": 0
}
